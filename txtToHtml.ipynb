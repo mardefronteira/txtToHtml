{
 "cells": [
  {
   "cell_type": "code",
   "execution_count": 38,
   "metadata": {},
   "outputs": [
    {
     "name": "stdout",
     "output_type": "stream",
     "text": [
      "<h3>THIS IS A TEST FILE: ALL CAPS TEXT WILL READ AS HEADERS</h3><p>Here is a test paragraph, or as I always say:</p><blockquote>Use a * in the beginning of a quote to &lt;blockquote&gt; it!</blockquote><p>Characters like &#039; &quot; &amp; &lt; &gt; should work just fine :)</p><p>Final paragraph -- beautiful!</p>\n",
      "Your file has been updated\n"
     ]
    }
   ],
   "source": [
    "# open text file and split it into paragraphs\n",
    "paragraphs = open(\"txtToProcess.txt\",\"r\").read().split(\"\\n\")\n",
    "\n",
    "# name the file and the javascript variable that it will represent\n",
    "newFileName = \"outputText\"\n",
    "\n",
    "# create empty list to hold processed text\n",
    "htmlTxt = []\n",
    "\n",
    "# loop through paragraphs\n",
    "for par in paragraphs:\n",
    "    \n",
    "    # escape needed characters, starting with '&' so that it won't try\n",
    "    # to escape the &s that we are adding\n",
    "    for i in range(par.count(\"&\")):\n",
    "        par = par.replace(\"&\",\"&amp;\")\n",
    "        \n",
    "    for i in range(par.count(\"<\")):\n",
    "        par = par.replace(\"<\",\"&lt;\")\n",
    "        \n",
    "    for i in range(par.count(\">\")):\n",
    "        par = par.replace(\">\",\"&gt;\")\n",
    "        \n",
    "    for i in range(par.count(\"'\")):\n",
    "        par = par.replace(\"'\",\"&#039;\")\n",
    "    \n",
    "    for i in range(par.count('\"')):\n",
    "        par = par.replace('\"',\"&quot;\")\n",
    "        \n",
    "    \n",
    "    # if paragraph is not empty\n",
    "    if par != \"\":\n",
    "        # if paragraph is all caps, add to file as <h3>\n",
    "        if par.isupper():\n",
    "            htmlTxt.append(\"<h3>\" + par + \"</h3>\")\n",
    "        \n",
    "        # else if paragraph starts with a *, add as <blockquote>\n",
    "        elif par[0] == \"*\":\n",
    "            htmlTxt.append(\"<blockquote>\" + par[1:] + \"</blockquote>\")\n",
    "       \n",
    "        # else, add as paragraph\n",
    "        else:\n",
    "            htmlTxt.append(\"<p>\" + par + \"</p>\")\n",
    "            \n",
    "htmlTxt = \"\".join(htmlTxt)\n",
    "\n",
    "# TO JAVASCRIPT VARIABLE\n",
    "# create js file using the newFileName variable to name it, then assign\n",
    "# to variable as var newFileName = \"htmlTxt\"\n",
    "\n",
    "newFile = open(newFileName + \".js\", \"w\")\n",
    "newFile.write(\"var \" + newFileName +\" = \\\"\" + htmlTxt + \"\\\"\")\n",
    "\n",
    "# TO HTML FILE\n",
    "# create HTML file using the newFileName variable to name it, then write\n",
    "# the processed htmlTxt into it\n",
    "\n",
    "newFile = open(newFileName + \".html\", \"w\")\n",
    "newFile.write(htmlTxt)\n",
    "\n",
    "# close file\n",
    "newFile.close()\n",
    "\n",
    "print(htmlTxt)\n",
    "print(\"Your file has been updated\")"
   ]
  }
 ],
 "metadata": {
  "kernelspec": {
   "display_name": "Python 3",
   "language": "python",
   "name": "python3"
  },
  "language_info": {
   "codemirror_mode": {
    "name": "ipython",
    "version": 3
   },
   "file_extension": ".py",
   "mimetype": "text/x-python",
   "name": "python",
   "nbconvert_exporter": "python",
   "pygments_lexer": "ipython3",
   "version": "3.7.1"
  }
 },
 "nbformat": 4,
 "nbformat_minor": 2
}
